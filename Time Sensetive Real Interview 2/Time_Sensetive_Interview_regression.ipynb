{
  "cells": [
    {
      "cell_type": "code",
      "execution_count": 1,
      "metadata": {
        "id": "iZgFCjUcBdQe"
      },
      "outputs": [],
      "source": [
        "import numpy as np\n",
        "import pandas as pd\n",
        "import seaborn as sns\n",
        "import matplotlib.pyplot as plt\n",
        "\n",
        "%matplotlib inline\n",
        "#%matplotlib notebook\n",
        "plt.rcParams[\"figure.figsize\"] = (10,6)\n",
        "import warnings\n",
        "warnings.filterwarnings(\"ignore\")\n",
        "warnings.warn(\"this will not show\")\n",
        "pd.set_option('display.float_format', lambda x: '%.3f' % x)\n",
        "\n",
        "from sklearn.preprocessing import StandardScaler, MinMaxScaler\n",
        "from sklearn.model_selection import train_test_split, GridSearchCV, cross_validate, cross_val_score\n",
        "from sklearn.neighbors import KNeighborsClassifier\n",
        "from sklearn.linear_model import LogisticRegression\n",
        "from sklearn.svm import SVC\n",
        "from sklearn.metrics import classification_report, confusion_matrix, log_loss, recall_score,accuracy_score,precision_score,f1_score\n",
        "from yellowbrick.classifier import ConfusionMatrix\n",
        "from yellowbrick.cluster import KElbowVisualizer"
      ]
    },
    {
      "cell_type": "code",
      "execution_count": 2,
      "metadata": {
        "id": "24mQHBihBn3V"
      },
      "outputs": [],
      "source": [
        "df = pd.read_csv(\"health_train.csv\")"
      ]
    },
    {
      "cell_type": "code",
      "execution_count": 3,
      "metadata": {
        "id": "MsY4rJRjB3cX"
      },
      "outputs": [],
      "source": [
        "df2 = df.copy()"
      ]
    },
    {
      "cell_type": "code",
      "execution_count": 4,
      "metadata": {
        "colab": {
          "base_uri": "https://localhost:8080/",
          "height": 362
        },
        "id": "BnbfHEAwB5td",
        "outputId": "16e852ce-d728-4d9c-9a62-33741a58e337"
      },
      "outputs": [
        {
          "data": {
            "text/html": [
              "<div>\n",
              "<style scoped>\n",
              "    .dataframe tbody tr th:only-of-type {\n",
              "        vertical-align: middle;\n",
              "    }\n",
              "\n",
              "    .dataframe tbody tr th {\n",
              "        vertical-align: top;\n",
              "    }\n",
              "\n",
              "    .dataframe thead th {\n",
              "        text-align: right;\n",
              "    }\n",
              "</style>\n",
              "<table border=\"1\" class=\"dataframe\">\n",
              "  <thead>\n",
              "    <tr style=\"text-align: right;\">\n",
              "      <th></th>\n",
              "      <th>0</th>\n",
              "      <th>1</th>\n",
              "      <th>2</th>\n",
              "      <th>3</th>\n",
              "      <th>4</th>\n",
              "      <th>5</th>\n",
              "      <th>6</th>\n",
              "      <th>7</th>\n",
              "      <th>8</th>\n",
              "      <th>9</th>\n",
              "      <th>...</th>\n",
              "      <th>2490</th>\n",
              "      <th>2491</th>\n",
              "      <th>2492</th>\n",
              "      <th>2493</th>\n",
              "      <th>2494</th>\n",
              "      <th>2495</th>\n",
              "      <th>2496</th>\n",
              "      <th>2497</th>\n",
              "      <th>2498</th>\n",
              "      <th>2499</th>\n",
              "    </tr>\n",
              "  </thead>\n",
              "  <tbody>\n",
              "    <tr>\n",
              "      <th>age</th>\n",
              "      <td>21.000</td>\n",
              "      <td>36.977</td>\n",
              "      <td>18.000</td>\n",
              "      <td>37.000</td>\n",
              "      <td>58.000</td>\n",
              "      <td>46.000</td>\n",
              "      <td>25.222</td>\n",
              "      <td>29.486</td>\n",
              "      <td>26.520</td>\n",
              "      <td>47.493</td>\n",
              "      <td>...</td>\n",
              "      <td>41.836</td>\n",
              "      <td>25.000</td>\n",
              "      <td>20.000</td>\n",
              "      <td>49.815</td>\n",
              "      <td>32.877</td>\n",
              "      <td>31.058</td>\n",
              "      <td>36.834</td>\n",
              "      <td>56.000</td>\n",
              "      <td>49.000</td>\n",
              "      <td>33.000</td>\n",
              "    </tr>\n",
              "    <tr>\n",
              "      <th>sex</th>\n",
              "      <td>male</td>\n",
              "      <td>female</td>\n",
              "      <td>male</td>\n",
              "      <td>male</td>\n",
              "      <td>male</td>\n",
              "      <td>male</td>\n",
              "      <td>male</td>\n",
              "      <td>female</td>\n",
              "      <td>male</td>\n",
              "      <td>female</td>\n",
              "      <td>...</td>\n",
              "      <td>male</td>\n",
              "      <td>male</td>\n",
              "      <td>male</td>\n",
              "      <td>female</td>\n",
              "      <td>male</td>\n",
              "      <td>male</td>\n",
              "      <td>male</td>\n",
              "      <td>female</td>\n",
              "      <td>male</td>\n",
              "      <td>male</td>\n",
              "    </tr>\n",
              "    <tr>\n",
              "      <th>bmi</th>\n",
              "      <td>25.745</td>\n",
              "      <td>25.744</td>\n",
              "      <td>30.030</td>\n",
              "      <td>30.677</td>\n",
              "      <td>32.010</td>\n",
              "      <td>26.620</td>\n",
              "      <td>31.193</td>\n",
              "      <td>24.223</td>\n",
              "      <td>25.066</td>\n",
              "      <td>27.302</td>\n",
              "      <td>...</td>\n",
              "      <td>33.647</td>\n",
              "      <td>26.220</td>\n",
              "      <td>35.122</td>\n",
              "      <td>33.878</td>\n",
              "      <td>33.215</td>\n",
              "      <td>27.555</td>\n",
              "      <td>30.322</td>\n",
              "      <td>36.180</td>\n",
              "      <td>36.430</td>\n",
              "      <td>36.641</td>\n",
              "    </tr>\n",
              "    <tr>\n",
              "      <th>smoker</th>\n",
              "      <td>no</td>\n",
              "      <td>yes</td>\n",
              "      <td>no</td>\n",
              "      <td>no</td>\n",
              "      <td>no</td>\n",
              "      <td>no</td>\n",
              "      <td>no</td>\n",
              "      <td>no</td>\n",
              "      <td>no</td>\n",
              "      <td>no</td>\n",
              "      <td>...</td>\n",
              "      <td>no</td>\n",
              "      <td>no</td>\n",
              "      <td>no</td>\n",
              "      <td>no</td>\n",
              "      <td>no</td>\n",
              "      <td>no</td>\n",
              "      <td>no</td>\n",
              "      <td>no</td>\n",
              "      <td>no</td>\n",
              "      <td>no</td>\n",
              "    </tr>\n",
              "    <tr>\n",
              "      <th>region</th>\n",
              "      <td>northeast</td>\n",
              "      <td>southeast</td>\n",
              "      <td>southeast</td>\n",
              "      <td>northeast</td>\n",
              "      <td>southeast</td>\n",
              "      <td>southeast</td>\n",
              "      <td>northeast</td>\n",
              "      <td>northwest</td>\n",
              "      <td>southwest</td>\n",
              "      <td>northwest</td>\n",
              "      <td>...</td>\n",
              "      <td>northeast</td>\n",
              "      <td>northeast</td>\n",
              "      <td>southwest</td>\n",
              "      <td>northwest</td>\n",
              "      <td>southwest</td>\n",
              "      <td>southeast</td>\n",
              "      <td>northeast</td>\n",
              "      <td>northwest</td>\n",
              "      <td>northwest</td>\n",
              "      <td>southwest</td>\n",
              "    </tr>\n",
              "    <tr>\n",
              "      <th>children</th>\n",
              "      <td>2</td>\n",
              "      <td>3</td>\n",
              "      <td>1</td>\n",
              "      <td>3</td>\n",
              "      <td>1</td>\n",
              "      <td>1</td>\n",
              "      <td>4</td>\n",
              "      <td>2</td>\n",
              "      <td>5</td>\n",
              "      <td>3</td>\n",
              "      <td>...</td>\n",
              "      <td>4</td>\n",
              "      <td>0</td>\n",
              "      <td>5</td>\n",
              "      <td>4</td>\n",
              "      <td>5</td>\n",
              "      <td>4</td>\n",
              "      <td>3</td>\n",
              "      <td>2</td>\n",
              "      <td>3</td>\n",
              "      <td>5</td>\n",
              "    </tr>\n",
              "    <tr>\n",
              "      <th>charges</th>\n",
              "      <td>3279.869</td>\n",
              "      <td>21454.494</td>\n",
              "      <td>1720.354</td>\n",
              "      <td>6801.438</td>\n",
              "      <td>11946.626</td>\n",
              "      <td>7742.110</td>\n",
              "      <td>21736.328</td>\n",
              "      <td>4916.953</td>\n",
              "      <td>5515.809</td>\n",
              "      <td>17009.335</td>\n",
              "      <td>...</td>\n",
              "      <td>14799.031</td>\n",
              "      <td>2721.321</td>\n",
              "      <td>4853.658</td>\n",
              "      <td>11247.445</td>\n",
              "      <td>6628.269</td>\n",
              "      <td>5889.104</td>\n",
              "      <td>6788.534</td>\n",
              "      <td>12401.747</td>\n",
              "      <td>10376.295</td>\n",
              "      <td>6658.237</td>\n",
              "    </tr>\n",
              "  </tbody>\n",
              "</table>\n",
              "<p>7 rows × 2500 columns</p>\n",
              "</div>"
            ],
            "text/plain": [
              "               0          1          2          3          4          5     \\\n",
              "age          21.000     36.977     18.000     37.000     58.000     46.000   \n",
              "sex            male     female       male       male       male       male   \n",
              "bmi          25.745     25.744     30.030     30.677     32.010     26.620   \n",
              "smoker           no        yes         no         no         no         no   \n",
              "region    northeast  southeast  southeast  northeast  southeast  southeast   \n",
              "children          2          3          1          3          1          1   \n",
              "charges    3279.869  21454.494   1720.354   6801.438  11946.626   7742.110   \n",
              "\n",
              "               6          7          8          9     ...       2490  \\\n",
              "age          25.222     29.486     26.520     47.493  ...     41.836   \n",
              "sex            male     female       male     female  ...       male   \n",
              "bmi          31.193     24.223     25.066     27.302  ...     33.647   \n",
              "smoker           no         no         no         no  ...         no   \n",
              "region    northeast  northwest  southwest  northwest  ...  northeast   \n",
              "children          4          2          5          3  ...          4   \n",
              "charges   21736.328   4916.953   5515.809  17009.335  ...  14799.031   \n",
              "\n",
              "               2491       2492       2493       2494       2495       2496  \\\n",
              "age          25.000     20.000     49.815     32.877     31.058     36.834   \n",
              "sex            male       male     female       male       male       male   \n",
              "bmi          26.220     35.122     33.878     33.215     27.555     30.322   \n",
              "smoker           no         no         no         no         no         no   \n",
              "region    northeast  southwest  northwest  southwest  southeast  northeast   \n",
              "children          0          5          4          5          4          3   \n",
              "charges    2721.321   4853.658  11247.445   6628.269   5889.104   6788.534   \n",
              "\n",
              "               2497       2498       2499  \n",
              "age          56.000     49.000     33.000  \n",
              "sex          female       male       male  \n",
              "bmi          36.180     36.430     36.641  \n",
              "smoker           no         no         no  \n",
              "region    northwest  northwest  southwest  \n",
              "children          2          3          5  \n",
              "charges   12401.747  10376.295   6658.237  \n",
              "\n",
              "[7 rows x 2500 columns]"
            ]
          },
          "execution_count": 4,
          "metadata": {},
          "output_type": "execute_result"
        }
      ],
      "source": [
        "df.T"
      ]
    },
    {
      "cell_type": "code",
      "execution_count": 5,
      "metadata": {
        "colab": {
          "base_uri": "https://localhost:8080/",
          "height": 300
        },
        "id": "TMQVyY3TB699",
        "outputId": "29f47201-e1eb-4891-fb35-281ab41c98c9"
      },
      "outputs": [
        {
          "data": {
            "text/html": [
              "<div>\n",
              "<style scoped>\n",
              "    .dataframe tbody tr th:only-of-type {\n",
              "        vertical-align: middle;\n",
              "    }\n",
              "\n",
              "    .dataframe tbody tr th {\n",
              "        vertical-align: top;\n",
              "    }\n",
              "\n",
              "    .dataframe thead th {\n",
              "        text-align: right;\n",
              "    }\n",
              "</style>\n",
              "<table border=\"1\" class=\"dataframe\">\n",
              "  <thead>\n",
              "    <tr style=\"text-align: right;\">\n",
              "      <th></th>\n",
              "      <th>age</th>\n",
              "      <th>bmi</th>\n",
              "      <th>children</th>\n",
              "      <th>charges</th>\n",
              "    </tr>\n",
              "  </thead>\n",
              "  <tbody>\n",
              "    <tr>\n",
              "      <th>count</th>\n",
              "      <td>2500.000</td>\n",
              "      <td>2500.000</td>\n",
              "      <td>2500.000</td>\n",
              "      <td>2500.000</td>\n",
              "    </tr>\n",
              "    <tr>\n",
              "      <th>mean</th>\n",
              "      <td>39.003</td>\n",
              "      <td>30.575</td>\n",
              "      <td>2.488</td>\n",
              "      <td>12679.312</td>\n",
              "    </tr>\n",
              "    <tr>\n",
              "      <th>std</th>\n",
              "      <td>12.265</td>\n",
              "      <td>5.390</td>\n",
              "      <td>1.707</td>\n",
              "      <td>10593.270</td>\n",
              "    </tr>\n",
              "    <tr>\n",
              "      <th>min</th>\n",
              "      <td>18.000</td>\n",
              "      <td>15.960</td>\n",
              "      <td>0.000</td>\n",
              "      <td>1121.874</td>\n",
              "    </tr>\n",
              "    <tr>\n",
              "      <th>25%</th>\n",
              "      <td>28.846</td>\n",
              "      <td>26.718</td>\n",
              "      <td>1.000</td>\n",
              "      <td>5612.781</td>\n",
              "    </tr>\n",
              "    <tr>\n",
              "      <th>50%</th>\n",
              "      <td>39.350</td>\n",
              "      <td>30.200</td>\n",
              "      <td>2.000</td>\n",
              "      <td>9455.047</td>\n",
              "    </tr>\n",
              "    <tr>\n",
              "      <th>75%</th>\n",
              "      <td>48.689</td>\n",
              "      <td>34.046</td>\n",
              "      <td>4.000</td>\n",
              "      <td>14440.628</td>\n",
              "    </tr>\n",
              "    <tr>\n",
              "      <th>max</th>\n",
              "      <td>64.000</td>\n",
              "      <td>53.130</td>\n",
              "      <td>5.000</td>\n",
              "      <td>63770.428</td>\n",
              "    </tr>\n",
              "  </tbody>\n",
              "</table>\n",
              "</div>"
            ],
            "text/plain": [
              "           age      bmi  children   charges\n",
              "count 2500.000 2500.000  2500.000  2500.000\n",
              "mean    39.003   30.575     2.488 12679.312\n",
              "std     12.265    5.390     1.707 10593.270\n",
              "min     18.000   15.960     0.000  1121.874\n",
              "25%     28.846   26.718     1.000  5612.781\n",
              "50%     39.350   30.200     2.000  9455.047\n",
              "75%     48.689   34.046     4.000 14440.628\n",
              "max     64.000   53.130     5.000 63770.428"
            ]
          },
          "execution_count": 5,
          "metadata": {},
          "output_type": "execute_result"
        }
      ],
      "source": [
        "df.describe()"
      ]
    },
    {
      "cell_type": "code",
      "execution_count": 6,
      "metadata": {
        "colab": {
          "base_uri": "https://localhost:8080/"
        },
        "id": "t2Y4Hv_QB8x1",
        "outputId": "2d258cf0-22bf-4b7e-de41-1e8b32dd257e"
      },
      "outputs": [
        {
          "name": "stdout",
          "output_type": "stream",
          "text": [
            "<class 'pandas.core.frame.DataFrame'>\n",
            "RangeIndex: 2500 entries, 0 to 2499\n",
            "Data columns (total 7 columns):\n",
            " #   Column    Non-Null Count  Dtype  \n",
            "---  ------    --------------  -----  \n",
            " 0   age       2500 non-null   float64\n",
            " 1   sex       2500 non-null   object \n",
            " 2   bmi       2500 non-null   float64\n",
            " 3   smoker    2500 non-null   object \n",
            " 4   region    2500 non-null   object \n",
            " 5   children  2500 non-null   int64  \n",
            " 6   charges   2500 non-null   float64\n",
            "dtypes: float64(3), int64(1), object(3)\n",
            "memory usage: 136.8+ KB\n"
          ]
        }
      ],
      "source": [
        "df.info()"
      ]
    },
    {
      "cell_type": "code",
      "execution_count": 7,
      "metadata": {},
      "outputs": [],
      "source": [
        "from sklearn.preprocessing import OrdinalEncoder"
      ]
    },
    {
      "cell_type": "code",
      "execution_count": 66,
      "metadata": {},
      "outputs": [],
      "source": [
        "X = df.drop([\"charges\"], axis=1)\n",
        "y = df[\"charges\"]"
      ]
    },
    {
      "cell_type": "code",
      "execution_count": 67,
      "metadata": {},
      "outputs": [
        {
          "data": {
            "text/plain": [
              "Index(['sex', 'smoker', 'region'], dtype='object')"
            ]
          },
          "execution_count": 67,
          "metadata": {},
          "output_type": "execute_result"
        }
      ],
      "source": [
        "cat = X.select_dtypes(\"object\").columns\n",
        "cat"
      ]
    },
    {
      "cell_type": "code",
      "execution_count": 68,
      "metadata": {},
      "outputs": [
        {
          "data": {
            "text/html": [
              "<div>\n",
              "<style scoped>\n",
              "    .dataframe tbody tr th:only-of-type {\n",
              "        vertical-align: middle;\n",
              "    }\n",
              "\n",
              "    .dataframe tbody tr th {\n",
              "        vertical-align: top;\n",
              "    }\n",
              "\n",
              "    .dataframe thead th {\n",
              "        text-align: right;\n",
              "    }\n",
              "</style>\n",
              "<table border=\"1\" class=\"dataframe\">\n",
              "  <thead>\n",
              "    <tr style=\"text-align: right;\">\n",
              "      <th></th>\n",
              "      <th>age</th>\n",
              "      <th>sex</th>\n",
              "      <th>bmi</th>\n",
              "      <th>smoker</th>\n",
              "      <th>region</th>\n",
              "      <th>children</th>\n",
              "    </tr>\n",
              "  </thead>\n",
              "  <tbody>\n",
              "    <tr>\n",
              "      <th>0</th>\n",
              "      <td>21.000</td>\n",
              "      <td>1.000</td>\n",
              "      <td>25.745</td>\n",
              "      <td>0.000</td>\n",
              "      <td>0.000</td>\n",
              "      <td>2</td>\n",
              "    </tr>\n",
              "    <tr>\n",
              "      <th>1</th>\n",
              "      <td>36.977</td>\n",
              "      <td>0.000</td>\n",
              "      <td>25.744</td>\n",
              "      <td>1.000</td>\n",
              "      <td>2.000</td>\n",
              "      <td>3</td>\n",
              "    </tr>\n",
              "    <tr>\n",
              "      <th>2</th>\n",
              "      <td>18.000</td>\n",
              "      <td>1.000</td>\n",
              "      <td>30.030</td>\n",
              "      <td>0.000</td>\n",
              "      <td>2.000</td>\n",
              "      <td>1</td>\n",
              "    </tr>\n",
              "    <tr>\n",
              "      <th>3</th>\n",
              "      <td>37.000</td>\n",
              "      <td>1.000</td>\n",
              "      <td>30.677</td>\n",
              "      <td>0.000</td>\n",
              "      <td>0.000</td>\n",
              "      <td>3</td>\n",
              "    </tr>\n",
              "    <tr>\n",
              "      <th>4</th>\n",
              "      <td>58.000</td>\n",
              "      <td>1.000</td>\n",
              "      <td>32.010</td>\n",
              "      <td>0.000</td>\n",
              "      <td>2.000</td>\n",
              "      <td>1</td>\n",
              "    </tr>\n",
              "  </tbody>\n",
              "</table>\n",
              "</div>"
            ],
            "text/plain": [
              "     age   sex    bmi  smoker  region  children\n",
              "0 21.000 1.000 25.745   0.000   0.000         2\n",
              "1 36.977 0.000 25.744   1.000   2.000         3\n",
              "2 18.000 1.000 30.030   0.000   2.000         1\n",
              "3 37.000 1.000 30.677   0.000   0.000         3\n",
              "4 58.000 1.000 32.010   0.000   2.000         1"
            ]
          },
          "execution_count": 68,
          "metadata": {},
          "output_type": "execute_result"
        }
      ],
      "source": [
        "enc = OrdinalEncoder()\n",
        "X[cat] = enc.fit_transform(X[cat])\n",
        "X.head()"
      ]
    },
    {
      "cell_type": "code",
      "execution_count": 69,
      "metadata": {},
      "outputs": [
        {
          "name": "stdout",
          "output_type": "stream",
          "text": [
            "Train features shape :  (2000, 6)\n",
            "Train target shape   :  (2000,)\n",
            "Test features shape  :  (500, 6)\n",
            "Test target shape    :  (500,)\n"
          ]
        }
      ],
      "source": [
        "from sklearn.model_selection import train_test_split\n",
        "X_train,X_test,y_train,y_test=train_test_split(X,y,test_size=0.2, random_state=5)\n",
        "\n",
        "print(\"Train features shape : \", X_train.shape)\n",
        "print(\"Train target shape   : \", y_train.shape)\n",
        "print(\"Test features shape  : \", X_test.shape)\n",
        "print(\"Test target shape    : \", y_test.shape)"
      ]
    },
    {
      "cell_type": "code",
      "execution_count": 12,
      "metadata": {},
      "outputs": [],
      "source": [
        "from sklearn.metrics import r2_score, mean_absolute_error, mean_squared_error"
      ]
    },
    {
      "cell_type": "code",
      "execution_count": 13,
      "metadata": {},
      "outputs": [],
      "source": [
        "def train_val(model, X_train, y_train, X_test, y_test):\n",
        "    \n",
        "    y_pred = model.predict(X_test)\n",
        "    y_train_pred = model.predict(X_train)\n",
        "    \n",
        "    scores = {\"train\": {\"R2\" : r2_score(y_train, y_train_pred),\n",
        "    \"mae\" : mean_absolute_error(y_train, y_train_pred),\n",
        "    \"mse\" : mean_squared_error(y_train, y_train_pred),                          \n",
        "    \"rmse\" : np.sqrt(mean_squared_error(y_train, y_train_pred))},\n",
        "    \n",
        "    \"test\": {\"R2\" : r2_score(y_test, y_pred),\n",
        "    \"mae\" : mean_absolute_error(y_test, y_pred),\n",
        "    \"mse\" : mean_squared_error(y_test, y_pred),\n",
        "    \"rmse\" : np.sqrt(mean_squared_error(y_test, y_pred))}}\n",
        "    \n",
        "    return pd.DataFrame(scores)"
      ]
    },
    {
      "cell_type": "markdown",
      "metadata": {},
      "source": [
        "Adaboost"
      ]
    },
    {
      "cell_type": "code",
      "execution_count": 17,
      "metadata": {},
      "outputs": [],
      "source": [
        "from sklearn.ensemble import AdaBoostRegressor"
      ]
    },
    {
      "cell_type": "code",
      "execution_count": 14,
      "metadata": {},
      "outputs": [],
      "source": [
        "from sklearn.model_selection import GridSearchCV"
      ]
    },
    {
      "cell_type": "code",
      "execution_count": 15,
      "metadata": {},
      "outputs": [],
      "source": [
        "param_grid = {\"n_estimators\":[50, 100, 200, 300, 500],\n",
        "              \"learning_rate\":[0.1, 0.5, 0.8, 1],\n",
        "              \"loss\": [\"linear\", \"square\"]\n",
        "            }"
      ]
    },
    {
      "cell_type": "code",
      "execution_count": 18,
      "metadata": {},
      "outputs": [],
      "source": [
        "model = AdaBoostRegressor(random_state=101)\n",
        "grid_model = GridSearchCV(estimator=model,\n",
        "                          param_grid=param_grid,\n",
        "                          scoring='neg_root_mean_squared_error',\n",
        "                          cv=10,\n",
        "                          n_jobs = -1)"
      ]
    },
    {
      "cell_type": "code",
      "execution_count": 19,
      "metadata": {},
      "outputs": [
        {
          "data": {
            "text/plain": [
              "GridSearchCV(cv=10, estimator=AdaBoostRegressor(random_state=101), n_jobs=-1,\n",
              "             param_grid={'learning_rate': [0.1, 0.5, 0.8, 1],\n",
              "                         'loss': ['linear', 'square'],\n",
              "                         'n_estimators': [50, 100, 200, 300, 500]},\n",
              "             scoring='neg_root_mean_squared_error')"
            ]
          },
          "execution_count": 19,
          "metadata": {},
          "output_type": "execute_result"
        }
      ],
      "source": [
        "grid_model.fit(X_train,y_train)"
      ]
    },
    {
      "cell_type": "code",
      "execution_count": 20,
      "metadata": {},
      "outputs": [
        {
          "data": {
            "text/plain": [
              "{'learning_rate': 0.1, 'loss': 'linear', 'n_estimators': 50}"
            ]
          },
          "execution_count": 20,
          "metadata": {},
          "output_type": "execute_result"
        }
      ],
      "source": [
        "grid_model.best_params_"
      ]
    },
    {
      "cell_type": "code",
      "execution_count": 21,
      "metadata": {},
      "outputs": [
        {
          "data": {
            "text/plain": [
              "-5111.938935795927"
            ]
          },
          "execution_count": 21,
          "metadata": {},
          "output_type": "execute_result"
        }
      ],
      "source": [
        "grid_model.best_score_"
      ]
    },
    {
      "cell_type": "code",
      "execution_count": 22,
      "metadata": {},
      "outputs": [
        {
          "data": {
            "text/html": [
              "<div>\n",
              "<style scoped>\n",
              "    .dataframe tbody tr th:only-of-type {\n",
              "        vertical-align: middle;\n",
              "    }\n",
              "\n",
              "    .dataframe tbody tr th {\n",
              "        vertical-align: top;\n",
              "    }\n",
              "\n",
              "    .dataframe thead th {\n",
              "        text-align: right;\n",
              "    }\n",
              "</style>\n",
              "<table border=\"1\" class=\"dataframe\">\n",
              "  <thead>\n",
              "    <tr style=\"text-align: right;\">\n",
              "      <th></th>\n",
              "      <th>train</th>\n",
              "      <th>test</th>\n",
              "    </tr>\n",
              "  </thead>\n",
              "  <tbody>\n",
              "    <tr>\n",
              "      <th>R2</th>\n",
              "      <td>0.781</td>\n",
              "      <td>0.834</td>\n",
              "    </tr>\n",
              "    <tr>\n",
              "      <th>mae</th>\n",
              "      <td>3594.229</td>\n",
              "      <td>3383.558</td>\n",
              "    </tr>\n",
              "    <tr>\n",
              "      <th>mse</th>\n",
              "      <td>24226368.970</td>\n",
              "      <td>19704585.020</td>\n",
              "    </tr>\n",
              "    <tr>\n",
              "      <th>rmse</th>\n",
              "      <td>4922.029</td>\n",
              "      <td>4438.985</td>\n",
              "    </tr>\n",
              "  </tbody>\n",
              "</table>\n",
              "</div>"
            ],
            "text/plain": [
              "            train         test\n",
              "R2          0.781        0.834\n",
              "mae      3594.229     3383.558\n",
              "mse  24226368.970 19704585.020\n",
              "rmse     4922.029     4438.985"
            ]
          },
          "execution_count": 22,
          "metadata": {},
          "output_type": "execute_result"
        }
      ],
      "source": [
        "train_val(grid_model, X_train, y_train, X_test, y_test)"
      ]
    },
    {
      "cell_type": "code",
      "execution_count": 24,
      "metadata": {},
      "outputs": [],
      "source": [
        "param_grid2 = {\"n_estimators\":[10, 20, 30, 40, 50],\n",
        "              \"learning_rate\":[0.01, 0.05, 0.08, 0.1],\n",
        "              \"loss\": [\"linear\", \"square\"]\n",
        "            }"
      ]
    },
    {
      "cell_type": "code",
      "execution_count": 25,
      "metadata": {},
      "outputs": [],
      "source": [
        "model2 = AdaBoostRegressor(random_state=101)\n",
        "grid_model2 = GridSearchCV(estimator=model,\n",
        "                          param_grid=param_grid2,\n",
        "                          scoring='neg_root_mean_squared_error',\n",
        "                          cv=10,\n",
        "                          n_jobs = -1)"
      ]
    },
    {
      "cell_type": "code",
      "execution_count": 29,
      "metadata": {},
      "outputs": [
        {
          "data": {
            "text/plain": [
              "GridSearchCV(cv=10, estimator=AdaBoostRegressor(random_state=101), n_jobs=-1,\n",
              "             param_grid={'learning_rate': [0.01, 0.05, 0.08, 0.1],\n",
              "                         'loss': ['linear', 'square'],\n",
              "                         'n_estimators': [10, 20, 30, 40, 50]},\n",
              "             scoring='neg_root_mean_squared_error')"
            ]
          },
          "execution_count": 29,
          "metadata": {},
          "output_type": "execute_result"
        }
      ],
      "source": [
        "grid_model2.fit(X_train,y_train)"
      ]
    },
    {
      "cell_type": "code",
      "execution_count": 30,
      "metadata": {},
      "outputs": [
        {
          "data": {
            "text/plain": [
              "{'learning_rate': 0.01, 'loss': 'linear', 'n_estimators': 20}"
            ]
          },
          "execution_count": 30,
          "metadata": {},
          "output_type": "execute_result"
        }
      ],
      "source": [
        "grid_model2.best_params_"
      ]
    },
    {
      "cell_type": "code",
      "execution_count": 31,
      "metadata": {},
      "outputs": [
        {
          "data": {
            "text/plain": [
              "-4955.6663254035"
            ]
          },
          "execution_count": 31,
          "metadata": {},
          "output_type": "execute_result"
        }
      ],
      "source": [
        "grid_model2.best_score_"
      ]
    },
    {
      "cell_type": "code",
      "execution_count": 33,
      "metadata": {},
      "outputs": [
        {
          "data": {
            "text/html": [
              "<div>\n",
              "<style scoped>\n",
              "    .dataframe tbody tr th:only-of-type {\n",
              "        vertical-align: middle;\n",
              "    }\n",
              "\n",
              "    .dataframe tbody tr th {\n",
              "        vertical-align: top;\n",
              "    }\n",
              "\n",
              "    .dataframe thead th {\n",
              "        text-align: right;\n",
              "    }\n",
              "</style>\n",
              "<table border=\"1\" class=\"dataframe\">\n",
              "  <thead>\n",
              "    <tr style=\"text-align: right;\">\n",
              "      <th></th>\n",
              "      <th>train</th>\n",
              "      <th>test</th>\n",
              "    </tr>\n",
              "  </thead>\n",
              "  <tbody>\n",
              "    <tr>\n",
              "      <th>R2</th>\n",
              "      <td>0.779</td>\n",
              "      <td>0.835</td>\n",
              "    </tr>\n",
              "    <tr>\n",
              "      <th>mae</th>\n",
              "      <td>3083.189</td>\n",
              "      <td>2919.629</td>\n",
              "    </tr>\n",
              "    <tr>\n",
              "      <th>mse</th>\n",
              "      <td>24476376.089</td>\n",
              "      <td>19522698.151</td>\n",
              "    </tr>\n",
              "    <tr>\n",
              "      <th>rmse</th>\n",
              "      <td>4947.361</td>\n",
              "      <td>4418.450</td>\n",
              "    </tr>\n",
              "  </tbody>\n",
              "</table>\n",
              "</div>"
            ],
            "text/plain": [
              "            train         test\n",
              "R2          0.779        0.835\n",
              "mae      3083.189     2919.629\n",
              "mse  24476376.089 19522698.151\n",
              "rmse     4947.361     4418.450"
            ]
          },
          "execution_count": 33,
          "metadata": {},
          "output_type": "execute_result"
        }
      ],
      "source": [
        "train_val(grid_model2, X_train, y_train, X_test, y_test)"
      ]
    },
    {
      "cell_type": "markdown",
      "metadata": {},
      "source": [
        "Gradient Boosting"
      ]
    },
    {
      "cell_type": "code",
      "execution_count": 34,
      "metadata": {},
      "outputs": [],
      "source": [
        "from sklearn.ensemble import GradientBoostingRegressor"
      ]
    },
    {
      "cell_type": "code",
      "execution_count": 35,
      "metadata": {},
      "outputs": [],
      "source": [
        "param_grid = {\"n_estimators\":[100, 200, 300], \"subsample\":[0.8, 1], \"max_features\" : [None, 2, 3, 4],\n",
        "            \"learning_rate\": [0.001, 0.01, 0.1, 0.5], 'max_depth':[2,3]}"
      ]
    },
    {
      "cell_type": "code",
      "execution_count": 36,
      "metadata": {},
      "outputs": [],
      "source": [
        "model = GradientBoostingRegressor(random_state=101)\n",
        "grid_model = GridSearchCV(estimator=model,\n",
        "                          param_grid=param_grid,\n",
        "                          scoring='neg_root_mean_squared_error',\n",
        "                          cv=10,\n",
        "                          n_jobs = -1)"
      ]
    },
    {
      "cell_type": "code",
      "execution_count": 37,
      "metadata": {},
      "outputs": [
        {
          "data": {
            "text/plain": [
              "GridSearchCV(cv=10, estimator=GradientBoostingRegressor(random_state=101),\n",
              "             n_jobs=-1,\n",
              "             param_grid={'learning_rate': [0.001, 0.01, 0.1, 0.5],\n",
              "                         'max_depth': [2, 3], 'max_features': [None, 2, 3, 4],\n",
              "                         'n_estimators': [100, 200, 300],\n",
              "                         'subsample': [0.8, 1]},\n",
              "             scoring='neg_root_mean_squared_error')"
            ]
          },
          "execution_count": 37,
          "metadata": {},
          "output_type": "execute_result"
        }
      ],
      "source": [
        "grid_model.fit(X_train, y_train)"
      ]
    },
    {
      "cell_type": "code",
      "execution_count": 38,
      "metadata": {},
      "outputs": [
        {
          "data": {
            "text/plain": [
              "{'learning_rate': 0.1,\n",
              " 'max_depth': 3,\n",
              " 'max_features': 3,\n",
              " 'n_estimators': 200,\n",
              " 'subsample': 1}"
            ]
          },
          "execution_count": 38,
          "metadata": {},
          "output_type": "execute_result"
        }
      ],
      "source": [
        "grid_model.best_params_"
      ]
    },
    {
      "cell_type": "code",
      "execution_count": 39,
      "metadata": {},
      "outputs": [
        {
          "data": {
            "text/plain": [
              "-4053.5844745293316"
            ]
          },
          "execution_count": 39,
          "metadata": {},
          "output_type": "execute_result"
        }
      ],
      "source": [
        "grid_model.best_score_"
      ]
    },
    {
      "cell_type": "code",
      "execution_count": 40,
      "metadata": {},
      "outputs": [
        {
          "data": {
            "text/html": [
              "<div>\n",
              "<style scoped>\n",
              "    .dataframe tbody tr th:only-of-type {\n",
              "        vertical-align: middle;\n",
              "    }\n",
              "\n",
              "    .dataframe tbody tr th {\n",
              "        vertical-align: top;\n",
              "    }\n",
              "\n",
              "    .dataframe thead th {\n",
              "        text-align: right;\n",
              "    }\n",
              "</style>\n",
              "<table border=\"1\" class=\"dataframe\">\n",
              "  <thead>\n",
              "    <tr style=\"text-align: right;\">\n",
              "      <th></th>\n",
              "      <th>train</th>\n",
              "      <th>test</th>\n",
              "    </tr>\n",
              "  </thead>\n",
              "  <tbody>\n",
              "    <tr>\n",
              "      <th>R2</th>\n",
              "      <td>0.899</td>\n",
              "      <td>0.904</td>\n",
              "    </tr>\n",
              "    <tr>\n",
              "      <th>mae</th>\n",
              "      <td>1758.810</td>\n",
              "      <td>1923.828</td>\n",
              "    </tr>\n",
              "    <tr>\n",
              "      <th>mse</th>\n",
              "      <td>11146999.402</td>\n",
              "      <td>11417304.216</td>\n",
              "    </tr>\n",
              "    <tr>\n",
              "      <th>rmse</th>\n",
              "      <td>3338.712</td>\n",
              "      <td>3378.950</td>\n",
              "    </tr>\n",
              "  </tbody>\n",
              "</table>\n",
              "</div>"
            ],
            "text/plain": [
              "            train         test\n",
              "R2          0.899        0.904\n",
              "mae      1758.810     1923.828\n",
              "mse  11146999.402 11417304.216\n",
              "rmse     3338.712     3378.950"
            ]
          },
          "execution_count": 40,
          "metadata": {},
          "output_type": "execute_result"
        }
      ],
      "source": [
        "train_val(grid_model, X_train, y_train, X_test, y_test)"
      ]
    },
    {
      "cell_type": "markdown",
      "metadata": {},
      "source": [
        "XGBoost"
      ]
    },
    {
      "cell_type": "code",
      "execution_count": 41,
      "metadata": {},
      "outputs": [],
      "source": [
        "from xgboost import XGBRegressor"
      ]
    },
    {
      "cell_type": "code",
      "execution_count": 76,
      "metadata": {},
      "outputs": [],
      "source": [
        "param_grid = {\"n_estimators\":[100, 300,500],'max_depth':[3,5,6,7], \"learning_rate\": [0.05, 0.1, 0.2],\n",
        "             \"subsample\":[0.5, 1], \"colsample_bytree\":[0.5, 1]}"
      ]
    },
    {
      "cell_type": "code",
      "execution_count": 77,
      "metadata": {},
      "outputs": [],
      "source": [
        "model = XGBRegressor(random_state=101, objective=\"reg:squarederror\")\n",
        "grid_model = GridSearchCV(estimator=model,\n",
        "                          param_grid=param_grid,\n",
        "                          scoring='neg_root_mean_squared_error',\n",
        "                          cv=10,\n",
        "                          n_jobs = -1)"
      ]
    },
    {
      "cell_type": "code",
      "execution_count": 44,
      "metadata": {},
      "outputs": [
        {
          "data": {
            "text/plain": [
              "GridSearchCV(cv=10,\n",
              "             estimator=XGBRegressor(base_score=None, booster=None,\n",
              "                                    colsample_bylevel=None,\n",
              "                                    colsample_bynode=None,\n",
              "                                    colsample_bytree=None,\n",
              "                                    enable_categorical=False, gamma=None,\n",
              "                                    gpu_id=None, importance_type=None,\n",
              "                                    interaction_constraints=None,\n",
              "                                    learning_rate=None, max_delta_step=None,\n",
              "                                    max_depth=None, min_child_weight=None,\n",
              "                                    missing=nan, monotone_constraints=None,...\n",
              "                                    num_parallel_tree=None, predictor=None,\n",
              "                                    random_state=101, reg_alpha=None,\n",
              "                                    reg_lambda=None, scale_pos_weight=None,\n",
              "                                    subsample=None, tree_method=None,\n",
              "                                    validate_parameters=None, verbosity=None),\n",
              "             n_jobs=-1,\n",
              "             param_grid={'colsample_bytree': [0.5, 1],\n",
              "                         'learning_rate': [0.05, 0.1, 0.2],\n",
              "                         'max_depth': [3, 5, 6, 7],\n",
              "                         'n_estimators': [100, 300, 500],\n",
              "                         'subsample': [0.5, 1]},\n",
              "             scoring='neg_root_mean_squared_error')"
            ]
          },
          "execution_count": 44,
          "metadata": {},
          "output_type": "execute_result"
        }
      ],
      "source": [
        "grid_model.fit(X_train, y_train)"
      ]
    },
    {
      "cell_type": "code",
      "execution_count": 45,
      "metadata": {},
      "outputs": [
        {
          "data": {
            "text/plain": [
              "{'colsample_bytree': 1,\n",
              " 'learning_rate': 0.05,\n",
              " 'max_depth': 7,\n",
              " 'n_estimators': 100,\n",
              " 'subsample': 0.5}"
            ]
          },
          "execution_count": 45,
          "metadata": {},
          "output_type": "execute_result"
        }
      ],
      "source": [
        "grid_model.best_params_"
      ]
    },
    {
      "cell_type": "code",
      "execution_count": 46,
      "metadata": {},
      "outputs": [
        {
          "data": {
            "text/plain": [
              "-3922.0339541628286"
            ]
          },
          "execution_count": 46,
          "metadata": {},
          "output_type": "execute_result"
        }
      ],
      "source": [
        "grid_model.best_score_"
      ]
    },
    {
      "cell_type": "code",
      "execution_count": 47,
      "metadata": {},
      "outputs": [
        {
          "data": {
            "text/html": [
              "<div>\n",
              "<style scoped>\n",
              "    .dataframe tbody tr th:only-of-type {\n",
              "        vertical-align: middle;\n",
              "    }\n",
              "\n",
              "    .dataframe tbody tr th {\n",
              "        vertical-align: top;\n",
              "    }\n",
              "\n",
              "    .dataframe thead th {\n",
              "        text-align: right;\n",
              "    }\n",
              "</style>\n",
              "<table border=\"1\" class=\"dataframe\">\n",
              "  <thead>\n",
              "    <tr style=\"text-align: right;\">\n",
              "      <th></th>\n",
              "      <th>train</th>\n",
              "      <th>test</th>\n",
              "    </tr>\n",
              "  </thead>\n",
              "  <tbody>\n",
              "    <tr>\n",
              "      <th>R2</th>\n",
              "      <td>0.945</td>\n",
              "      <td>0.919</td>\n",
              "    </tr>\n",
              "    <tr>\n",
              "      <th>mae</th>\n",
              "      <td>1214.331</td>\n",
              "      <td>1646.120</td>\n",
              "    </tr>\n",
              "    <tr>\n",
              "      <th>mse</th>\n",
              "      <td>6088707.283</td>\n",
              "      <td>9627853.271</td>\n",
              "    </tr>\n",
              "    <tr>\n",
              "      <th>rmse</th>\n",
              "      <td>2467.531</td>\n",
              "      <td>3102.878</td>\n",
              "    </tr>\n",
              "  </tbody>\n",
              "</table>\n",
              "</div>"
            ],
            "text/plain": [
              "           train        test\n",
              "R2         0.945       0.919\n",
              "mae     1214.331    1646.120\n",
              "mse  6088707.283 9627853.271\n",
              "rmse    2467.531    3102.878"
            ]
          },
          "execution_count": 47,
          "metadata": {},
          "output_type": "execute_result"
        }
      ],
      "source": [
        "train_val(grid_model, X_train, y_train, X_test, y_test)"
      ]
    },
    {
      "cell_type": "code",
      "execution_count": 78,
      "metadata": {},
      "outputs": [
        {
          "data": {
            "text/plain": [
              "GridSearchCV(cv=10,\n",
              "             estimator=XGBRegressor(base_score=None, booster=None,\n",
              "                                    colsample_bylevel=None,\n",
              "                                    colsample_bynode=None,\n",
              "                                    colsample_bytree=None,\n",
              "                                    enable_categorical=False, gamma=None,\n",
              "                                    gpu_id=None, importance_type=None,\n",
              "                                    interaction_constraints=None,\n",
              "                                    learning_rate=None, max_delta_step=None,\n",
              "                                    max_depth=None, min_child_weight=None,\n",
              "                                    missing=nan, monotone_constraints=None,...\n",
              "                                    num_parallel_tree=None, predictor=None,\n",
              "                                    random_state=101, reg_alpha=None,\n",
              "                                    reg_lambda=None, scale_pos_weight=None,\n",
              "                                    subsample=None, tree_method=None,\n",
              "                                    validate_parameters=None, verbosity=None),\n",
              "             n_jobs=-1,\n",
              "             param_grid={'colsample_bytree': [0.5, 1],\n",
              "                         'learning_rate': [0.05, 0.1, 0.2],\n",
              "                         'max_depth': [3, 5, 6, 7],\n",
              "                         'n_estimators': [100, 300, 500],\n",
              "                         'subsample': [0.5, 1]},\n",
              "             scoring='neg_root_mean_squared_error')"
            ]
          },
          "execution_count": 78,
          "metadata": {},
          "output_type": "execute_result"
        }
      ],
      "source": [
        "grid_model.fit(X, y)"
      ]
    },
    {
      "cell_type": "code",
      "execution_count": null,
      "metadata": {},
      "outputs": [],
      "source": []
    },
    {
      "cell_type": "code",
      "execution_count": null,
      "metadata": {},
      "outputs": [],
      "source": []
    },
    {
      "cell_type": "code",
      "execution_count": null,
      "metadata": {},
      "outputs": [],
      "source": []
    },
    {
      "cell_type": "code",
      "execution_count": 79,
      "metadata": {},
      "outputs": [],
      "source": [
        "df_test = pd.read_csv(\"health_test.csv\")"
      ]
    },
    {
      "cell_type": "code",
      "execution_count": 80,
      "metadata": {},
      "outputs": [
        {
          "data": {
            "text/plain": [
              "Index(['sex', 'smoker', 'region'], dtype='object')"
            ]
          },
          "execution_count": 80,
          "metadata": {},
          "output_type": "execute_result"
        }
      ],
      "source": [
        "cat = df_test.select_dtypes(\"object\").columns\n",
        "cat"
      ]
    },
    {
      "cell_type": "code",
      "execution_count": 82,
      "metadata": {},
      "outputs": [
        {
          "data": {
            "text/html": [
              "<div>\n",
              "<style scoped>\n",
              "    .dataframe tbody tr th:only-of-type {\n",
              "        vertical-align: middle;\n",
              "    }\n",
              "\n",
              "    .dataframe tbody tr th {\n",
              "        vertical-align: top;\n",
              "    }\n",
              "\n",
              "    .dataframe thead th {\n",
              "        text-align: right;\n",
              "    }\n",
              "</style>\n",
              "<table border=\"1\" class=\"dataframe\">\n",
              "  <thead>\n",
              "    <tr style=\"text-align: right;\">\n",
              "      <th></th>\n",
              "      <th>age</th>\n",
              "      <th>sex</th>\n",
              "      <th>bmi</th>\n",
              "      <th>smoker</th>\n",
              "      <th>region</th>\n",
              "      <th>children</th>\n",
              "    </tr>\n",
              "  </thead>\n",
              "  <tbody>\n",
              "    <tr>\n",
              "      <th>0</th>\n",
              "      <td>39.297</td>\n",
              "      <td>1.000</td>\n",
              "      <td>29.978</td>\n",
              "      <td>0.000</td>\n",
              "      <td>1.000</td>\n",
              "      <td>4</td>\n",
              "    </tr>\n",
              "    <tr>\n",
              "      <th>1</th>\n",
              "      <td>40.368</td>\n",
              "      <td>0.000</td>\n",
              "      <td>27.928</td>\n",
              "      <td>0.000</td>\n",
              "      <td>2.000</td>\n",
              "      <td>5</td>\n",
              "    </tr>\n",
              "    <tr>\n",
              "      <th>2</th>\n",
              "      <td>32.882</td>\n",
              "      <td>1.000</td>\n",
              "      <td>41.577</td>\n",
              "      <td>0.000</td>\n",
              "      <td>3.000</td>\n",
              "      <td>5</td>\n",
              "    </tr>\n",
              "    <tr>\n",
              "      <th>3</th>\n",
              "      <td>62.000</td>\n",
              "      <td>0.000</td>\n",
              "      <td>30.495</td>\n",
              "      <td>0.000</td>\n",
              "      <td>1.000</td>\n",
              "      <td>2</td>\n",
              "    </tr>\n",
              "    <tr>\n",
              "      <th>4</th>\n",
              "      <td>32.476</td>\n",
              "      <td>1.000</td>\n",
              "      <td>30.323</td>\n",
              "      <td>1.000</td>\n",
              "      <td>0.000</td>\n",
              "      <td>4</td>\n",
              "    </tr>\n",
              "  </tbody>\n",
              "</table>\n",
              "</div>"
            ],
            "text/plain": [
              "     age   sex    bmi  smoker  region  children\n",
              "0 39.297 1.000 29.978   0.000   1.000         4\n",
              "1 40.368 0.000 27.928   0.000   2.000         5\n",
              "2 32.882 1.000 41.577   0.000   3.000         5\n",
              "3 62.000 0.000 30.495   0.000   1.000         2\n",
              "4 32.476 1.000 30.323   1.000   0.000         4"
            ]
          },
          "execution_count": 82,
          "metadata": {},
          "output_type": "execute_result"
        }
      ],
      "source": [
        "enc = OrdinalEncoder()\n",
        "df_test[cat] = enc.fit_transform(df_test[cat])\n",
        "df_test.head()"
      ]
    },
    {
      "cell_type": "code",
      "execution_count": 83,
      "metadata": {},
      "outputs": [],
      "source": [
        "y_final_pred = grid_model.predict(df_test)"
      ]
    },
    {
      "cell_type": "code",
      "execution_count": 85,
      "metadata": {},
      "outputs": [
        {
          "data": {
            "text/plain": [
              "array([ 7999.1255,  9161.717 ,  6381.747 , 17028.67  , 35251.047 ,\n",
              "        6591.1953, 10446.273 ,  9168.338 ,  9414.553 ,  1881.145 ,\n",
              "       11431.659 ,  3657.4658, 12462.294 ,  8313.361 , 11605.837 ,\n",
              "        6631.832 ,  6982.65  ,  5153.674 ,  3091.094 , 39813.094 ,\n",
              "        4050.995 , 10594.319 , 30384.852 , 31389.64  ,  8325.637 ,\n",
              "        5539.5664, 16298.774 ,  3714.8943,  4242.978 , 24954.283 ,\n",
              "        5112.9805,  6789.5234,  5236.5513, 10049.82  , 38465.55  ,\n",
              "        6146.579 , 17383.42  , 10960.393 , 10167.608 , 47269.387 ,\n",
              "       16518.129 , 11935.153 , 18649.266 , 37956.49  ,  5743.895 ,\n",
              "        7237.504 ,  6590.0337, 10930.476 , 13906.431 , 17372.43  ,\n",
              "       12471.271 ,  4603.9946, 13250.1875, 11133.609 , 11571.053 ,\n",
              "       36322.816 , 11184.642 , 11538.955 ,  9170.46  , 12011.966 ,\n",
              "        5069.666 , 43575.28  , 40751.695 , 33766.266 , 10253.221 ,\n",
              "       11087.233 ,  6714.8657,  6526.695 ,  7015.6606, 38814.35  ,\n",
              "       13501.482 ,  8128.248 ,  6625.6016, 12172.993 , 10725.618 ,\n",
              "       10767.294 , 23749.217 , 14574.28  , 37420.65  , 11084.313 ,\n",
              "        6193.112 , 45574.34  , 46992.3   ,  4501.074 ,  5071.1035,\n",
              "       20348.68  , 17245.262 ,  5843.9106,  9525.077 , 12485.41  ,\n",
              "        5270.281 , 17481.096 , 11809.318 , 12275.945 ,  4889.1045,\n",
              "        9432.657 ,  6868.9546,  5906.4595,  3544.4556, 10827.283 ,\n",
              "       10449.967 ,  2192.8083,  9151.171 ,  7157.073 , 39107.977 ,\n",
              "       23917.984 ,  9280.14  ,  2838.9834, 18444.617 , 17110.008 ,\n",
              "       10950.412 , 18899.799 , 11002.969 ,  9295.339 ,  7294.886 ,\n",
              "        6264.01  ,  5985.901 ,  6633.853 , 47127.812 , 19297.635 ,\n",
              "        9693.982 ,  7736.005 , 11592.147 , 19997.117 ,  6074.6445,\n",
              "        9962.05  , 10480.228 , 11538.955 , 12157.456 ,  7237.378 ,\n",
              "        7813.047 , 12685.144 ,  7129.089 ,  5693.191 , 11476.901 ,\n",
              "        6317.242 , 45670.453 ,  6123.2866,  7222.2856, 13189.5625,\n",
              "       18645.617 ,  7577.0146, 11069.287 ,  6220.7065, 42194.848 ,\n",
              "       13752.185 ,  8379.88  , 24733.45  ,  8137.896 , 22440.705 ,\n",
              "       12705.276 ,  4940.457 , 10168.852 ,  6376.3525, 37972.07  ,\n",
              "       39812.594 ,  9667.812 ,  9406.321 ,  4159.466 ,  5463.856 ,\n",
              "       47310.195 , 10283.558 , 10556.072 , 11400.145 , 20827.441 ,\n",
              "        2433.6973,  3548.968 ,  7496.372 ,  8219.553 , 10770.517 ,\n",
              "       11031.368 , 18651.41  , 10142.62  , 12848.099 , 14139.656 ,\n",
              "        6341.3877, 45717.996 ,  6817.6113,  2785.969 ,  6020.185 ,\n",
              "       10817.9   ,  6133.089 , 10969.697 ,  6803.105 ,  9799.827 ,\n",
              "        6211.255 , 13100.444 , 21617.084 ,  2810.75  ,  7513.0693,\n",
              "       17808.29  ,  5998.8765,  3451.6494,  8844.195 , 11309.327 ,\n",
              "        7721.2046, 20968.28  ,  3355.1282,  4848.7876,  5396.67  ,\n",
              "       10116.798 ,  9512.593 ,  5457.986 , 36744.79  , 11519.725 ,\n",
              "       13814.637 , 23412.695 ,  7188.7695,  5914.149 ,  7060.3623,\n",
              "       18220.701 , 12509.641 ,  8908.463 , 10924.222 ,  7903.4067,\n",
              "       21333.213 ,  6653.0273,  6703.2563,  5613.3096,  5448.98  ,\n",
              "        7207.837 ,  4624.8833,  6148.1104, 16063.288 , 46464.71  ,\n",
              "       27472.627 ,  6719.4053,  5149.603 , 32242.158 , 11235.585 ,\n",
              "       12178.568 ,  6277.218 ,  8876.449 , 25700.793 ,  3799.2585,\n",
              "        2162.1833, 10350.102 ,  5687.7773, 22334.385 , 10065.503 ,\n",
              "        5023.004 ,  9984.949 ,  6924.0093, 12001.029 , 44290.055 ,\n",
              "       43531.523 ,  7543.269 ,  8222.381 ,  9229.817 ,  9399.302 ,\n",
              "        8370.047 ,  4681.9287, 10369.524 ,  4082.1633, 10673.843 ,\n",
              "       11300.239 ,  6840.6475, 20483.535 ,  6645.283 , 43199.77  ,\n",
              "       19962.078 , 14203.662 , 11637.218 , 12962.804 ,  6170.2896,\n",
              "       13417.343 , 33310.926 ,  6523.6787, 45238.312 , 10334.608 ,\n",
              "       23180.762 , 10480.228 , 11207.99  ,  4479.386 ,  4798.118 ,\n",
              "       16108.781 , 10182.707 ,  6919.43  ,  6140.133 , 12131.317 ,\n",
              "        8828.709 ,  6359.1655, 11792.591 ,  9805.879 , 14886.561 ,\n",
              "        8294.447 ,  4865.9507, 11574.033 ,  8496.789 , 24762.615 ,\n",
              "        5105.47  , 10921.109 , 12862.094 , 10835.753 , 13725.057 ,\n",
              "        6044.5513, 13682.375 ,  7627.6147, 23210.611 ,  6543.21  ,\n",
              "        7045.5215,  6813.4087,  7789.375 , 35574.293 , 42839.625 ,\n",
              "       10501.494 ,  8399.053 ,  5041.5747,  4917.122 , 10188.425 ,\n",
              "       19540.959 , 10226.543 , 11109.049 ,  4283.163 , 11784.591 ,\n",
              "        1387.5334, 32312.412 , 18527.406 ,  9961.993 ,  3608.562 ,\n",
              "       12171.779 ,  5590.0293, 11220.161 , 13394.659 , 20689.822 ,\n",
              "       13317.9375, 36132.72  , 11572.236 ,  8230.558 ,  5055.385 ,\n",
              "       22439.012 , 45364.633 , 18257.037 ,  1460.5057,  7759.519 ,\n",
              "       10265.082 , 27019.016 , 45551.88  , 20032.664 ,  6651.8516,\n",
              "       22959.238 ,  9741.147 ,  8226.746 , 41158.156 , 14168.207 ,\n",
              "        9085.007 ,  3313.6365, 24726.703 , 23496.285 , 12387.163 ,\n",
              "        8640.418 , 40528.81  ,  8730.217 , 36322.062 ,  7563.7993,\n",
              "        2257.6155,  2510.7698,  7876.341 , 12610.032 , 13258.888 ,\n",
              "        5433.128 , 42330.266 ,  4523.4907,  6950.894 ,  3586.1602,\n",
              "       17798.28  , 10682.994 ,  5976.3076, 14764.2705, 11504.881 ,\n",
              "        6292.6274, 18272.08  ,  4627.841 ,  9850.923 ,  4557.3496,\n",
              "        6639.326 ,  6508.7876, 10721.854 ,  9057.116 , 19209.992 ,\n",
              "        5218.809 ,  8395.167 ,  2742.486 , 11220.484 , 39701.15  ,\n",
              "        6273.0903, 10893.339 ,  5103.474 ,  5964.236 , 11579.172 ,\n",
              "        6261.4087,  6477.0117,  9425.1   ,  4889.1045,  6330.4146,\n",
              "       39730.84  , 13967.706 , 14475.204 ,  4786.1445,  6139.0146,\n",
              "        3322.6719,  4829.186 ,  5834.4927,  7737.1895, 14213.421 ,\n",
              "        3548.2402, 13047.9795, 39500.39  ,  5626.395 , 25047.797 ,\n",
              "        1931.7367,  6029.777 , 13416.6045, 44418.07  ,  9708.235 ,\n",
              "       10428.726 , 42988.676 ,  6909.9155,  5082.408 ,  1562.6207,\n",
              "        9152.596 ,  4753.2393, 14685.582 ,  9275.397 , 12815.642 ,\n",
              "        4833.1714, 25510.996 , 16731.602 ,  8275.556 , 11391.057 ,\n",
              "       10763.162 , 11121.752 , 13357.688 ,  4299.9385,  2257.3042,\n",
              "       20426.709 , 39811.656 ,  6376.812 , 10930.476 ,  6160.061 ,\n",
              "        5247.03  ,  7005.522 , 42269.594 , 41350.72  , 28215.494 ,\n",
              "        1410.834 , 41050.2   , 19734.04  , 11298.372 , 10933.894 ,\n",
              "       34382.137 ], dtype=float32)"
            ]
          },
          "execution_count": 85,
          "metadata": {},
          "output_type": "execute_result"
        }
      ],
      "source": [
        "y_final_pred"
      ]
    },
    {
      "cell_type": "code",
      "execution_count": 86,
      "metadata": {},
      "outputs": [],
      "source": [
        "y_final_pred = pd.DataFrame(y_final_pred, columns = [\"y_final_pred\"])"
      ]
    },
    {
      "cell_type": "code",
      "execution_count": 87,
      "metadata": {},
      "outputs": [
        {
          "data": {
            "text/html": [
              "<div>\n",
              "<style scoped>\n",
              "    .dataframe tbody tr th:only-of-type {\n",
              "        vertical-align: middle;\n",
              "    }\n",
              "\n",
              "    .dataframe tbody tr th {\n",
              "        vertical-align: top;\n",
              "    }\n",
              "\n",
              "    .dataframe thead th {\n",
              "        text-align: right;\n",
              "    }\n",
              "</style>\n",
              "<table border=\"1\" class=\"dataframe\">\n",
              "  <thead>\n",
              "    <tr style=\"text-align: right;\">\n",
              "      <th></th>\n",
              "      <th>y_final_pred</th>\n",
              "    </tr>\n",
              "  </thead>\n",
              "  <tbody>\n",
              "    <tr>\n",
              "      <th>count</th>\n",
              "      <td>451.000</td>\n",
              "    </tr>\n",
              "    <tr>\n",
              "      <th>mean</th>\n",
              "      <td>13468.927</td>\n",
              "    </tr>\n",
              "    <tr>\n",
              "      <th>std</th>\n",
              "      <td>10974.064</td>\n",
              "    </tr>\n",
              "    <tr>\n",
              "      <th>min</th>\n",
              "      <td>1387.533</td>\n",
              "    </tr>\n",
              "    <tr>\n",
              "      <th>25%</th>\n",
              "      <td>6367.759</td>\n",
              "    </tr>\n",
              "    <tr>\n",
              "      <th>50%</th>\n",
              "      <td>10168.852</td>\n",
              "    </tr>\n",
              "    <tr>\n",
              "      <th>75%</th>\n",
              "      <td>14344.312</td>\n",
              "    </tr>\n",
              "    <tr>\n",
              "      <th>max</th>\n",
              "      <td>47310.195</td>\n",
              "    </tr>\n",
              "  </tbody>\n",
              "</table>\n",
              "</div>"
            ],
            "text/plain": [
              "       y_final_pred\n",
              "count       451.000\n",
              "mean      13468.927\n",
              "std       10974.064\n",
              "min        1387.533\n",
              "25%        6367.759\n",
              "50%       10168.852\n",
              "75%       14344.312\n",
              "max       47310.195"
            ]
          },
          "execution_count": 87,
          "metadata": {},
          "output_type": "execute_result"
        }
      ],
      "source": [
        "y_final_pred.describe()"
      ]
    },
    {
      "cell_type": "code",
      "execution_count": 89,
      "metadata": {},
      "outputs": [],
      "source": [
        "y_final_pred.to_csv(\"C9191.csv\", index=False)"
      ]
    },
    {
      "cell_type": "code",
      "execution_count": null,
      "metadata": {},
      "outputs": [],
      "source": []
    },
    {
      "cell_type": "code",
      "execution_count": null,
      "metadata": {},
      "outputs": [],
      "source": []
    },
    {
      "cell_type": "code",
      "execution_count": null,
      "metadata": {},
      "outputs": [],
      "source": []
    }
  ],
  "metadata": {
    "colab": {
      "collapsed_sections": [],
      "name": "Time_Sensetive_Interview_linearregression.ipynb",
      "provenance": []
    },
    "kernelspec": {
      "display_name": "Python 3",
      "name": "python3"
    },
    "language_info": {
      "codemirror_mode": {
        "name": "ipython",
        "version": 3
      },
      "file_extension": ".py",
      "mimetype": "text/x-python",
      "name": "python",
      "nbconvert_exporter": "python",
      "pygments_lexer": "ipython3",
      "version": "3.9.7"
    }
  },
  "nbformat": 4,
  "nbformat_minor": 0
}
